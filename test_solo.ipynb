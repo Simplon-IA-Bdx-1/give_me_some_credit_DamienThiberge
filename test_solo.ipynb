{
 "cells": [
  {
   "cell_type": "markdown",
   "metadata": {},
   "source": [
    "# Exercice individuel"
   ]
  },
  {
   "cell_type": "code",
   "execution_count": 10,
   "metadata": {},
   "outputs": [],
   "source": [
    "from bigml.api import BigML\n",
    "import pandas as pd\n",
    "from pandas import read_csv\n",
    "import json\n",
    "import csv\n",
    "import ipynb.fs.full.Modification_csv as mod"
   ]
  },
  {
   "cell_type": "markdown",
   "metadata": {},
   "source": [
    "### récupération d'un projet"
   ]
  },
  {
   "cell_type": "code",
   "execution_count": 11,
   "metadata": {},
   "outputs": [],
   "source": [
    "api = BigML(project='project/5d94a451eba31d46690001cf')"
   ]
  },
  {
   "cell_type": "markdown",
   "metadata": {},
   "source": [
    "### récupération d'un ensemble"
   ]
  },
  {
   "cell_type": "code",
   "execution_count": 12,
   "metadata": {},
   "outputs": [],
   "source": [
    "# le modèle récupéré est celui effectué dans un autre exercice\n",
    "model = api.get_ensemble('ensemble/5dc2dbd97811dd7f2d01224d')"
   ]
  },
  {
   "cell_type": "markdown",
   "metadata": {},
   "source": [
    "### définit l'ordre et le choix des colonnes"
   ]
  },
  {
   "cell_type": "code",
   "execution_count": 13,
   "metadata": {
    "scrolled": true
   },
   "outputs": [],
   "source": [
    "column = ['Id', 'RevolvingUtilizationOfUnsecuredLines', 'age', 'IsOld', 'DebtRatio', 'MonthlyIncome', 'NumberOfTime30-59DaysPastDueNotWorse', 'NumberOfTime60-89DaysPastDueNotWorse', 'NumberOfTimes90DaysLate', 'NumberOfOpenCreditLinesAndLoans', 'NumberRealEstateLoansOrLines', 'NumberOfDependents', 'SeriousDlqin2yrs']"
   ]
  },
  {
   "cell_type": "markdown",
   "metadata": {},
   "source": [
    "### remplissage des données du dataframe"
   ]
  },
  {
   "cell_type": "code",
   "execution_count": 34,
   "metadata": {},
   "outputs": [],
   "source": [
    "df = pd.DataFrame(columns = column)\n",
    "df = df.append({\"RevolvingUtilizationOfUnsecuredLines\": 0.01703559,\"NumberOfDependents\": 1,\"DebtRatio\": 0,\"age\": 42,\"NumberOfOpenCreditLinesAndLoans\": 6,\"NumberRealEstateLoansOrLines\": 1,\"NumberOfTime30-59DaysPastDueNotWorse\": 1,\"NumberOfTime60-89DaysPastDueNotWorse\": 0,\"NumberOfTimes90DaysLate\": 0}, ignore_index = True)"
   ]
  },
  {
   "cell_type": "markdown",
   "metadata": {},
   "source": [
    "### application des modifications sur le dataframe"
   ]
  },
  {
   "cell_type": "code",
   "execution_count": 35,
   "metadata": {},
   "outputs": [],
   "source": [
    "df2 = mod.modification_df(df)"
   ]
  },
  {
   "cell_type": "code",
   "execution_count": 36,
   "metadata": {},
   "outputs": [],
   "source": [
    "data_df = df2.loc[0].to_dict()"
   ]
  },
  {
   "cell_type": "markdown",
   "metadata": {},
   "source": [
    "### création de la prédiction"
   ]
  },
  {
   "cell_type": "code",
   "execution_count": 37,
   "metadata": {},
   "outputs": [
    {
     "data": {
      "text/plain": [
       "True"
      ]
     },
     "execution_count": 37,
     "metadata": {},
     "output_type": "execute_result"
    }
   ],
   "source": [
    "prediction = api.create_prediction(model, data_df)\n",
    "api.ok(prediction)"
   ]
  },
  {
   "cell_type": "code",
   "execution_count": 38,
   "metadata": {},
   "outputs": [
    {
     "name": "stdout",
     "output_type": "stream",
     "text": [
      "SeriousDlqin2yrs for {'DebtRatio': 0.0, 'Id': 'NA', 'IsOld': 'NA', 'MonthlyIncome': 'NA', 'NumberOfDependents': 0.0, 'NumberOfOpenCreditLinesAndLoans': 6.0, 'NumberOfTimes30DaysOrLater': 1.0, 'NumberRealEstateLoansOrLines': 1.0, 'RevolvingUtilizationOfUnsecuredLines': 0.01703559, 'SeriousDlqin2yrs': 'NA', 'age': 42.0} is 0\n"
     ]
    }
   ],
   "source": [
    "api.pprint(prediction)"
   ]
  },
  {
   "cell_type": "code",
   "execution_count": null,
   "metadata": {},
   "outputs": [],
   "source": []
  }
 ],
 "metadata": {
  "kernelspec": {
   "display_name": "Python 3",
   "language": "python",
   "name": "python3"
  },
  "language_info": {
   "codemirror_mode": {
    "name": "ipython",
    "version": 3
   },
   "file_extension": ".py",
   "mimetype": "text/x-python",
   "name": "python",
   "nbconvert_exporter": "python",
   "pygments_lexer": "ipython3",
   "version": "3.7.3"
  }
 },
 "nbformat": 4,
 "nbformat_minor": 2
}
